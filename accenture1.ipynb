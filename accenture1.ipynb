{
 "cells": [
  {
   "cell_type": "code",
   "execution_count": 1,
   "metadata": {},
   "outputs": [],
   "source": [
    "import numpy as np"
   ]
  },
  {
   "cell_type": "code",
   "execution_count": 2,
   "metadata": {},
   "outputs": [],
   "source": [
    "prime = np.array([2, 3, 5, 7, 11, 13, 17, 19, 23, 29, 31, 37, 41, 43, 47, 53, 59, 61, 67, 71, 73, 79, 83, 89, 97])\n",
    "cost = np.array([0,1,1,1,2,1,2,1,2,2,2,1,2,1,2,2,2,1,2,1,2,2,2,1,2,2,2,2,2,1,2,1,2,2,2,2,2,1,2,2,2,1,2,1,2,2,2,1,2,2,2,2,2,1])"
   ]
  },
  {
   "cell_type": "code",
   "execution_count": 3,
   "metadata": {},
   "outputs": [],
   "source": [
    "reversed_prime = prime[::-1]"
   ]
  },
  {
   "cell_type": "code",
   "execution_count": 4,
   "metadata": {},
   "outputs": [],
   "source": [
    "def coste (n,p):\n",
    "    if n < p:\n",
    "        if n ==1 :\n",
    "            return 0;\n",
    "        else:\n",
    "            return cost[p];\n",
    "    else:\n",
    "        a = n % p;\n",
    "        return cost[a] + cost[p] + coste((n-a)//p,p);"
   ]
  },
  {
   "cell_type": "code",
   "execution_count": 5,
   "metadata": {},
   "outputs": [],
   "source": [
    "def costemejorado (n,p,cota):\n",
    "    if n < p:\n",
    "        if n == 1 :\n",
    "            return 0;\n",
    "        else:\n",
    "            return cost[n];\n",
    "    else:\n",
    "        a = n % p;\n",
    "        n = (n-a)//p;\n",
    "        coste = cost[a] + cost[p];\n",
    "        min = cota - coste;\n",
    "        if min >= 0:\n",
    "            for q in reversed_prime:\n",
    "                temp = costemejorado(n,q,min);\n",
    "                if temp < min :\n",
    "                    min = temp;\n",
    "            coste += min;\n",
    "        return coste;"
   ]
  },
  {
   "cell_type": "code",
   "execution_count": 6,
   "metadata": {},
   "outputs": [],
   "source": [
    "costaçao=np.array([]);\n",
    "for i in np.linspace(1,3*97,3*97):\n",
    "    costaçao=np.append(costaçao,[(int(i),100)])"
   ]
  },
  {
   "cell_type": "code",
   "execution_count": 7,
   "metadata": {},
   "outputs": [],
   "source": [
    "import itertools\n",
    "a=np.arange(97+1)\n",
    "b=np.array([100])\n",
    "c=list(itertools.product(a,b))\n",
    "c=np.asarray(c)"
   ]
  },
  {
   "cell_type": "code",
   "execution_count": 8,
   "metadata": {},
   "outputs": [],
   "source": [
    "for i in prime:\n",
    "    c[i][1]=1"
   ]
  },
  {
   "cell_type": "code",
   "execution_count": 9,
   "metadata": {},
   "outputs": [],
   "source": [
    "c[0][1]=0\n",
    "c[1][1]=1;"
   ]
  },
  {
   "cell_type": "code",
   "execution_count": 12,
   "metadata": {},
   "outputs": [],
   "source": [
    "def create_cost(n,cota):\n",
    "    if n in prime:\n",
    "        return c[n][1];\n",
    "    else:\n",
    "        #resta + división\n",
    "        min = cota;\n",
    "        for p in prime:\n",
    "            a = n % p;\n",
    "            ctemp = c[a][1] + c[p][1];\n",
    "            if min - ctemp >=0:\n",
    "                n1 = (n-a)//p;\n",
    "                if n1 != 1:\n",
    "                    ctemp += create_cost(n1,min-ctemp);\n",
    "                if ctemp < min :\n",
    "                    min= ctemp;\n",
    "                    \n",
    "                    #print (p)\n",
    "            ctemp = c[p-a][1] + c[p][1];\n",
    "            \n",
    "            if min - ctemp >=0:\n",
    "                n1 = (n-a)//p +1;\n",
    "                if n1 != 1:\n",
    "                    ctemp += create_cost(n1,min-ctemp);\n",
    "                if ctemp < min :\n",
    "                    min= ctemp;\n",
    "                    #print (p)\n",
    "        return min;"
   ]
  },
  {
   "cell_type": "code",
   "execution_count": 54,
   "metadata": {},
   "outputs": [],
   "source": [
    "def create_cost_str(n,cota):\n",
    "    strv=\"\";\n",
    "    if n in prime:\n",
    "        return c[n][1],str(n);\n",
    "    else:\n",
    "        #resta + división\n",
    "        min = cota;\n",
    "        for p in prime:\n",
    "            a = n % p;\n",
    "            ctemp = c[a][1] + c[p][1];\n",
    "            if min - ctemp >=0:\n",
    "                n1 = (n-a)//p;\n",
    "                if n1 != 1:\n",
    "                    aux,str_n1 = create_cost_str(n1,min-ctemp);\n",
    "                    ctemp += aux;\n",
    "                else:\n",
    "                    str_n1=\"\";\n",
    "                if ctemp < min :\n",
    "                    min= ctemp;\n",
    "                    strv=\"(\"+str_n1+\")*\"+str(p);\n",
    "                    if a!=0:\n",
    "                        strv+\n",
    "                    \n",
    "            ctemp = c[p-a][1] + c[p][1];\n",
    "            \n",
    "            if min - ctemp >=0:\n",
    "                n1 = (n-a)//p +1;\n",
    "                if n1 != 1:\n",
    "                    (aux,str_n1) = create_cost_str(n1,min-ctemp);\n",
    "                    ctemp += aux;\n",
    "                else:\n",
    "                    str_n1=\"\";\n",
    "                if ctemp < min :\n",
    "                    min= ctemp;\n",
    "                    strv=\"(\"+str_n1+\")*\"+str(p)+\"+\"+str(a);\n",
    "                    #print (p)\n",
    "        return min,strv;"
   ]
  },
  {
   "cell_type": "code",
   "execution_count": 55,
   "metadata": {},
   "outputs": [
    {
     "data": {
      "text/plain": [
       "(2, '(5)*2+0')"
      ]
     },
     "execution_count": 55,
     "metadata": {},
     "output_type": "execute_result"
    }
   ],
   "source": [
    "create_cost_str(10,7)"
   ]
  },
  {
   "cell_type": "code",
   "execution_count": 18,
   "metadata": {},
   "outputs": [
    {
     "data": {
      "text/plain": [
       "2"
      ]
     },
     "execution_count": 18,
     "metadata": {},
     "output_type": "execute_result"
    }
   ],
   "source": [
    "create_cost(123,7)"
   ]
  },
  {
   "cell_type": "code",
   "execution_count": 73,
   "metadata": {},
   "outputs": [],
   "source": [
    "for i in a:\n",
    "    if(i>1):\n",
    "        coste=create_cost(i,4);\n",
    "        if(coste<c[i][1]):\n",
    "            c[i][1]=coste;"
   ]
  },
  {
   "cell_type": "code",
   "execution_count": 107,
   "metadata": {},
   "outputs": [
    {
     "name": "stdout",
     "output_type": "stream",
     "text": [
      "2019-10-25 14:17:39.126630\n",
      "93\n",
      "2019-10-25 14:17:39.129103\n",
      "{2: 1, 3: 1, 5: 1, 7: 1, 11: 1, 13: 1, 17: 1, 19: 1, 23: 1, 29: 1, 31: 1, 37: 1, 41: 1, 43: 1, 47: 1, 53: 1, 59: 1, 61: 1, 67: 1, 71: 1, 73: 1, 79: 1, 83: 1, 89: 1, 97: 1, 4: 2, 0: 2, -1: 2, -3: 2, 9: 2, -5: 2, -9: 2, 15: 2, -11: 2, -15: 2, 21: 2, -17: 2, 25: 2, -21: 2, -27: 2, 33: 2, -29: 2, 39: 2, -35: 2, -39: 2, 45: 2, -41: 2, 49: 2, -45: 2, 55: 2, -51: 2, -57: 2, 63: 2, -59: 2, 69: 2, -65: 2, -69: 2, 75: 2, -71: 2, 81: 2, -77: 2, 85: 2, -81: 2, 91: 2, -87: 2, 99: 2, -95: 2, 1: 2, 6: 2, 8: 2, -2: 2, 10: 2, -4: 2, 14: 2, -8: 2, 16: 2, -10: 2, 20: 2, -14: 2, 22: 2, -16: 2, 26: 2, -20: 2, 32: 2, -26: 2, 34: 2, -28: 2, 40: 2, -34: 2, 44: 2, -38: 2, 46: 2, -40: 2, 50: 2, -44: 2, 56: 2, -50: 2, 62: 2, -56: 2, 64: 2, -58: 2, 70: 2, -64: 2, 74: 2, -68: 2, 76: 2, -70: 2, 82: 2, -76: 2, 86: 2, -80: 2, 92: 2, -86: 2, 100: 2, -94: 2, 12: 2, -6: 2, 18: 2, -12: 2, 24: 2, 28: 2, -18: 2, -24: 2, 36: 2, 42: 2, -32: 2, -36: 2, 48: 2, 52: 2, -42: 2, 58: 2, -48: 2, -54: 2, 66: 2, 72: 2, -62: 2, -66: 2, 78: 2, 84: 2, -74: 2, 88: 2, -78: 2, 94: 2, -84: 2, 102: 2, -92: 2, 30: 2, -22: 2, 38: 2, -30: 2, 54: 2, 60: 2, -46: 2, -52: 2, 68: 2, -60: 2, 80: 2, -72: 2, 90: 2, 96: 2, -82: 2, 104: 2, -90: 2, 108: 2, 110: 2, 106: 2, 114: 2, 98: 2, 116: 2, 112: 2, 120: 2, 27: 2, 118: 2, 126: 2, 128: 2, 35: 2, 134: 2, 124: 2, 130: 2, 138: 2, 122: 2, 132: 2, 140: 2, 136: 2, 144: 2, 51: 2, 142: 2, 150: 2, 57: 2, 148: 2, 156: 2, 158: 2, 65: 2, 146: 2, 164: 2, 154: 2, 160: 2, 168: 2, 152: 2, 162: 2, 170: 2, 77: 2, 176: 2, 166: 2, 172: 2, 180: 2, 87: 2, 178: 2, 186: 2, 95: 2, 194: 2, 93: 5}\n"
     ]
    }
   ],
   "source": [
    "print(datetime.datetime.now())\n",
    "cost_sum_prime = dict()\n",
    "for i in prime:\n",
    "    cost_sum_prime [i]=1;\n",
    "for i in prime:\n",
    "    for j in prime:\n",
    "        if not i+j in cost_sum_prime.keys():\n",
    "            cost_sum_prime[i+j] = 2;\n",
    "        if not i-j in cost_sum_prime.keys():\n",
    "            cost_sum_prime[i-j] = 2;\n",
    "for i in a:\n",
    "    if i>1:\n",
    "        if not i in cost_sum_prime.keys():\n",
    "            coste=create_cost(i,5);\n",
    "            print(i);\n",
    "            cost_sum_prime[i] = coste;\n",
    "print(datetime.datetime.now())\n",
    "print (cost_sum_prime)"
   ]
  },
  {
   "cell_type": "code",
   "execution_count": null,
   "metadata": {},
   "outputs": [],
   "source": [
    "prime2 = np.array(2);\n",
    "for i in a:\n",
    "    if(int(i)>2):\n",
    "        if(c[i][1]<=2):\n",
    "            prime2=np.append(prime2, int(i));"
   ]
  },
  {
   "cell_type": "code",
   "execution_count": 35,
   "metadata": {},
   "outputs": [
    {
     "data": {
      "text/plain": [
       "array([  2,   3,   4,   5,   6,   7,   8,   9,  10,  11,  12,  13,  14,\n",
       "        15,  16,  17,  18,  19,  20,  21,  22,  23,  24,  25,  26,  27,\n",
       "        28,  29,  30,  31,  32,  33,  34,  35,  36,  37,  38,  39,  40,\n",
       "        41,  42,  43,  44,  45,  46,  47,  48,  49,  50,  51,  52,  53,\n",
       "        54,  55,  56,  57,  58,  59,  60,  61,  62,  63,  64,  65,  66,\n",
       "        67,  68,  69,  70,  71,  72,  73,  74,  75,  76,  77,  78,  79,\n",
       "        80,  81,  82,  83,  84,  85,  86,  87,  88,  89,  90,  91,  92,\n",
       "        93,  94,  95,  96,  97,  98,  99, 100, 102, 104, 106, 108, 110,\n",
       "       111, 112, 114, 115, 116, 118, 119, 120, 121, 122, 123, 124, 126,\n",
       "       128, 129, 130, 132, 133, 134, 136, 138, 140, 141, 142, 143, 144,\n",
       "       145, 146, 148, 150, 152, 154, 155, 156, 158, 159, 160, 161, 162,\n",
       "       164, 166, 168, 169, 170, 172, 176, 177, 178, 180, 183, 185, 186,\n",
       "       187, 194, 201, 203, 205, 209, 213, 215, 217, 219, 221, 235, 237,\n",
       "       247, 249, 253, 259, 265, 267, 287, 289, 291])"
      ]
     },
     "execution_count": 35,
     "metadata": {},
     "output_type": "execute_result"
    }
   ],
   "source": [
    "prime2 ## Quizás incorporar productos ??"
   ]
  },
  {
   "cell_type": "code",
   "execution_count": 36,
   "metadata": {},
   "outputs": [],
   "source": [
    "def create_cost2(n,cota):\n",
    "    if n in prime2:\n",
    "        return c[n][1];\n",
    "    else:\n",
    "        #resta + división\n",
    "        min = cota;\n",
    "        for p in prime2:\n",
    "            a = n % p;\n",
    "            ctemp = c[a][1] + c[p][1];\n",
    "            if min - ctemp >=0:\n",
    "                n1 = (n-a)//p;\n",
    "                if n1 != 1:\n",
    "                    ctemp += create_cost(n1,min-ctemp);\n",
    "                if ctemp < min :\n",
    "                    min= ctemp;\n",
    "                    \n",
    "                    #print (p)\n",
    "            ctemp = c[p-a][1] + c[p][1];\n",
    "            \n",
    "            if min - ctemp >=0:\n",
    "                n1 = (n-a)//p +1;\n",
    "                if n1 != 1:\n",
    "                    ctemp += create_cost(n1,min-ctemp);\n",
    "                if ctemp < min :\n",
    "                    min= ctemp;\n",
    "                    #print (p)\n",
    "        return min;"
   ]
  },
  {
   "cell_type": "code",
   "execution_count": 37,
   "metadata": {},
   "outputs": [],
   "source": [
    "for i in a:\n",
    "    if(i>1):\n",
    "        coste=create_cost2(i,100);\n",
    "        if(coste<c[i][1]):\n",
    "            c[i][1]=coste;"
   ]
  },
  {
   "cell_type": "code",
   "execution_count": 38,
   "metadata": {},
   "outputs": [],
   "source": [
    "predicate = np.copy(prime2);\n",
    "predicate=predicate.astype(float)\n",
    "#print(predicate);# not sure if predicate is the best name for this variable\n",
    "for i in range(len(prime2)):\n",
    "    predicate[i]=c[prime2[i]][1]/np.log2(prime2[i]);\n",
    "    #print(predicate[i]);\n",
    "    #print(c[prime2[i]][1]/np.log2(prime2[i]));\n",
    "#print(predicate);\n",
    "order = np.argsort(predicate)\n",
    "#print(order);\n",
    "prime2sorted = np.copy(prime2[order]);\n",
    "#print(prime2[order])"
   ]
  },
  {
   "cell_type": "code",
   "execution_count": 39,
   "metadata": {},
   "outputs": [
    {
     "name": "stdout",
     "output_type": "stream",
     "text": [
      "[ 97  89  83  79  73  71  67  61  59  53  47  43  41  37  31  29  23  19\n",
      " 291 289  17 287 267 265 259 253 249]\n"
     ]
    }
   ],
   "source": [
    "prime2sortedlite= prime2sorted[:27] \n",
    "print(prime2sortedlite)"
   ]
  },
  {
   "cell_type": "code",
   "execution_count": 40,
   "metadata": {},
   "outputs": [],
   "source": [
    "def calculate(n,cota,prime_list):\n",
    "    #if n < (97*3+1):\n",
    "        #return c[n][1];\n",
    "    if n in prime_list:\n",
    "        return c[n][1];\n",
    "    else:\n",
    "        #resta + división\n",
    "        min = cota;\n",
    "        #for p in prime2sorted:\n",
    "        for p in prime_list:\n",
    "            a = n % p;\n",
    "            if a in prime_list:\n",
    "                ctemp = c[a][1] + c[p][1];\n",
    "            else:\n",
    "                ctemp=100;\n",
    "            if min - ctemp >=0:\n",
    "                n1 = (n-a)//p;\n",
    "                if n1 != 1:\n",
    "                    ctemp += calculate(n1,min-ctemp,prime_list);\n",
    "                if ctemp < min :\n",
    "                    min= ctemp;\n",
    "                    \n",
    "                    #print (p)\n",
    "            if p-a in prime_list:\n",
    "                ctemp = c[p-a][1] + c[p][1];\n",
    "            else:\n",
    "                ctemp=100;\n",
    "            \n",
    "            if min - ctemp >=0:\n",
    "                n1 = (n-a)//p +1;\n",
    "                if n1 != 1:\n",
    "                    ctemp += calculate(n1,min-ctemp,prime_list);\n",
    "                if ctemp < min :\n",
    "                    min= ctemp;\n",
    "                    #print (p)\n",
    "        return min;"
   ]
  },
  {
   "cell_type": "code",
   "execution_count": 41,
   "metadata": {},
   "outputs": [
    {
     "name": "stdout",
     "output_type": "stream",
     "text": [
      "2019-10-25 13:45:37.828108\n",
      "4\n",
      "2019-10-25 13:45:37.847596\n",
      "4\n",
      "2019-10-25 13:45:37.850691\n"
     ]
    }
   ],
   "source": [
    "import datetime\n",
    "n=97+83+91\n",
    "print(datetime.datetime.now())\n",
    "a=calculate(n,100,reversed_prime)\n",
    "print(a)\n",
    "print(datetime.datetime.now())\n",
    "print(calculate(n,100,prime2sortedlite))\n",
    "print(datetime.datetime.now())"
   ]
  },
  {
   "cell_type": "code",
   "execution_count": null,
   "metadata": {},
   "outputs": [],
   "source": [
    "fhinp = open('TEST.txt')\n",
    "fhout = open('SCORE.txt')\n",
    "inputaçao =fh.read()\n",
    "for line in inputaçao:\n",
    "    line_split = linea.split('|')\n",
    "    id = line_split[0]\n",
    "    number = int(line_split[1])\n",
    "    prime = int(line_split[2])\n",
    "    #AQUÍ EJECUTAMOS NUESTRA FUNCIÓN\n",
    "    #supongamos que devuelve sol y str_sol\n",
    "    fhout.write(\"DNIdelQuino|\"+id+\"|\"+str(sol)+\"|\"+str_sol)\n",
    "fhinp.close()\n",
    "fhout.close()    "
   ]
  },
  {
   "cell_type": "code",
   "execution_count": null,
   "metadata": {},
   "outputs": [],
   "source": []
  },
  {
   "cell_type": "code",
   "execution_count": null,
   "metadata": {},
   "outputs": [],
   "source": []
  },
  {
   "cell_type": "code",
   "execution_count": null,
   "metadata": {},
   "outputs": [],
   "source": []
  },
  {
   "cell_type": "code",
   "execution_count": null,
   "metadata": {},
   "outputs": [],
   "source": []
  }
 ],
 "metadata": {
  "kernelspec": {
   "display_name": "Python 3",
   "language": "python",
   "name": "python3"
  },
  "language_info": {
   "codemirror_mode": {
    "name": "ipython",
    "version": 3
   },
   "file_extension": ".py",
   "mimetype": "text/x-python",
   "name": "python",
   "nbconvert_exporter": "python",
   "pygments_lexer": "ipython3",
   "version": "3.7.3"
  }
 },
 "nbformat": 4,
 "nbformat_minor": 4
}
