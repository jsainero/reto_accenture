{
 "cells": [
  {
   "cell_type": "code",
   "execution_count": 3,
   "metadata": {},
   "outputs": [],
   "source": [
    "import numpy as np"
   ]
  },
  {
   "cell_type": "code",
   "execution_count": 4,
   "metadata": {},
   "outputs": [],
   "source": [
    "prime = np.array([2, 3, 5, 7, 11, 13, 17, 19, 23, 29, 31, 37, 41, 43, 47, 53])\n",
    "cost = np.array([0,1,1,1,2,1,2,1,2,2,2,1,2,1,2,2,2,1,2,1,2,2,2,1,2,2,2,2,2,1,2,1,2,2,2,2,2,1,2,2,2,1,2,1,2,2,2,1,2,2,2,2,2,1])"
   ]
  },
  {
   "cell_type": "code",
   "execution_count": 8,
   "metadata": {},
   "outputs": [],
   "source": [
    "reversed_prime = prime[::-1]"
   ]
  },
  {
   "cell_type": "code",
   "execution_count": 21,
   "metadata": {},
   "outputs": [],
   "source": [
    "def coste (n,p):\n",
    "    if n < p:\n",
    "        if n ==1 :\n",
    "            return 0;\n",
    "        else:\n",
    "            return cost[p];\n",
    "    else:\n",
    "        a = n % p;\n",
    "        return cost[a] + cost[p] + coste((n-a)//p,p);"
   ]
  },
  {
   "cell_type": "code",
   "execution_count": 17,
   "metadata": {},
   "outputs": [],
   "source": [
    "def costemejorado (n,p,cota):\n",
    "    if n < p:\n",
    "        if n == 1 :\n",
    "            return 0;\n",
    "        else:\n",
    "            return cost[p];\n",
    "    else:\n",
    "        a = n % p;\n",
    "        n = (n-a)//p;\n",
    "        coste = cost[a] + cost[p];\n",
    "        min = cota - coste;\n",
    "        if min >= 0:\n",
    "            for q in reversed_prime:\n",
    "                temp = costemejorado(n,q,min);\n",
    "                if temp < min :\n",
    "                    min = temp;\n",
    "            coste += min;\n",
    "        return coste;   "
   ]
  },
  {
   "cell_type": "code",
   "execution_count": 22,
   "metadata": {},
   "outputs": [
    {
     "data": {
      "text/plain": [
       "10"
      ]
     },
     "execution_count": 22,
     "metadata": {},
     "output_type": "execute_result"
    }
   ],
   "source": [
    "costemejorado(53*1089820078,53,100)"
   ]
  },
  {
   "cell_type": "code",
   "execution_count": null,
   "metadata": {},
   "outputs": [],
   "source": []
  },
  {
   "cell_type": "code",
   "execution_count": null,
   "metadata": {},
   "outputs": [],
   "source": []
  }
 ],
 "metadata": {
  "kernelspec": {
   "display_name": "Python 3",
   "language": "python",
   "name": "python3"
  },
  "language_info": {
   "codemirror_mode": {
    "name": "ipython",
    "version": 3
   },
   "file_extension": ".py",
   "mimetype": "text/x-python",
   "name": "python",
   "nbconvert_exporter": "python",
   "pygments_lexer": "ipython3",
   "version": "3.7.3"
  }
 },
 "nbformat": 4,
 "nbformat_minor": 2
}
