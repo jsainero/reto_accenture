{
 "cells": [
  {
   "cell_type": "code",
   "execution_count": 15,
   "metadata": {},
   "outputs": [],
   "source": [
    "import numpy as np"
   ]
  },
  {
   "cell_type": "code",
   "execution_count": 162,
   "metadata": {},
   "outputs": [],
   "source": [
    "prime = np.array([2, 3, 5, 7, 11, 13, 17, 19, 23, 29, 31, 37, 41, 43, 47, 53, 59, 61, 67, 71, 73, 79, 83, 89, 97])\n",
    "cost = np.array([0,1,1,1,2,1,2,1,2,2,2,1,2,1,2,2,2,1,2,1,2,2,2,1,2,2,2,2,2,1,2,1,2,2,2,2,2,1,2,2,2,1,2,1,2,2,2,1,2,2,2,2,2,1])"
   ]
  },
  {
   "cell_type": "code",
   "execution_count": 163,
   "metadata": {},
   "outputs": [],
   "source": [
    "reversed_prime = prime[::-1]"
   ]
  },
  {
   "cell_type": "code",
   "execution_count": 18,
   "metadata": {},
   "outputs": [],
   "source": [
    "def coste (n,p):\n",
    "    if n < p:\n",
    "        if n ==1 :\n",
    "            return 0;\n",
    "        else:\n",
    "            return cost[p];\n",
    "    else:\n",
    "        a = n % p;\n",
    "        return cost[a] + cost[p] + coste((n-a)//p,p);"
   ]
  },
  {
   "cell_type": "code",
   "execution_count": 117,
   "metadata": {},
   "outputs": [],
   "source": [
    "def costemejorado (n,p,cota):\n",
    "    if n < p:\n",
    "        if n == 1 :\n",
    "            return 0;\n",
    "        else:\n",
    "            return cost[n];\n",
    "    else:\n",
    "        a = n % p;\n",
    "        n = (n-a)//p;\n",
    "        coste = cost[a] + cost[p];\n",
    "        min = cota - coste;\n",
    "        if min >= 0:\n",
    "            for q in reversed_prime:\n",
    "                temp = costemejorado(n,q,min);\n",
    "                if temp < min :\n",
    "                    min = temp;\n",
    "            coste += min;\n",
    "        return coste;"
   ]
  },
  {
   "cell_type": "code",
   "execution_count": 120,
   "metadata": {},
   "outputs": [
    {
     "data": {
      "text/plain": [
       "12"
      ]
     },
     "execution_count": 120,
     "metadata": {},
     "output_type": "execute_result"
    }
   ],
   "source": [
    "costemejorado((53*53*53*53*53*53+1)//2,53,100)"
   ]
  },
  {
   "cell_type": "code",
   "execution_count": 9,
   "metadata": {},
   "outputs": [],
   "source": [
    "costaçao=np.array([]);\n",
    "for i in np.linspace(1,3*97,3*97):\n",
    "    costaçao=np.append(costaçao,[(int(i),100)])"
   ]
  },
  {
   "cell_type": "code",
   "execution_count": 64,
   "metadata": {},
   "outputs": [],
   "source": [
    "from itertools import product\n",
    "a=np.arange(3*97+1)\n",
    "b=np.array([100])\n",
    "c=list(product(a,b))\n",
    "c=np.asarray(c)"
   ]
  },
  {
   "cell_type": "code",
   "execution_count": 65,
   "metadata": {},
   "outputs": [],
   "source": [
    "for i in prime:\n",
    "    c[i][1]=1"
   ]
  },
  {
   "cell_type": "code",
   "execution_count": 66,
   "metadata": {},
   "outputs": [],
   "source": [
    "c[0][1]=0\n",
    "c[1][1]=1;"
   ]
  },
  {
   "cell_type": "code",
   "execution_count": 22,
   "metadata": {},
   "outputs": [],
   "source": [
    "def create_cost(n,cota):\n",
    "    if n in prime:\n",
    "        return c[n][1];\n",
    "    else:\n",
    "        #resta + división\n",
    "        min = cota;\n",
    "        for p in prime:\n",
    "            a = n % p;\n",
    "            ctemp = c[a][1] + c[p][1];\n",
    "            if min - ctemp >=0:\n",
    "                n1 = (n-a)//p;\n",
    "                if n1 != 1:\n",
    "                    ctemp += create_cost(n1,min-ctemp);\n",
    "                if ctemp < min :\n",
    "                    min= ctemp;\n",
    "                    \n",
    "                    #print (p)\n",
    "            ctemp = c[p-a][1] + c[p][1];\n",
    "            \n",
    "            if min - ctemp >=0:\n",
    "                n1 = (n-a)//p +1;\n",
    "                if n1 != 1:\n",
    "                    ctemp += create_cost(n1,min-ctemp);\n",
    "                if ctemp < min :\n",
    "                    min= ctemp;\n",
    "                    #print (p)\n",
    "        return min;"
   ]
  },
  {
   "cell_type": "code",
   "execution_count": 67,
   "metadata": {},
   "outputs": [
    {
     "data": {
      "text/plain": [
       "2"
      ]
     },
     "execution_count": 67,
     "metadata": {},
     "output_type": "execute_result"
    }
   ],
   "source": [
    "create_cost(123,7)"
   ]
  },
  {
   "cell_type": "code",
   "execution_count": 68,
   "metadata": {},
   "outputs": [],
   "source": [
    "for i in a:\n",
    "    if(i>1):\n",
    "        coste=create_cost(i,100);\n",
    "        if(coste<c[i][1]):\n",
    "            c[i][1]=coste;"
   ]
  },
  {
   "cell_type": "code",
   "execution_count": 69,
   "metadata": {},
   "outputs": [],
   "source": [
    "prime2 = np.array(2);\n",
    "for i in a:\n",
    "    if(int(i)>2):\n",
    "        if(c[i][1]<=2):\n",
    "            prime2=np.append(prime2, int(i));"
   ]
  },
  {
   "cell_type": "code",
   "execution_count": 70,
   "metadata": {},
   "outputs": [
    {
     "data": {
      "text/plain": [
       "array([  2,   3,   4,   5,   6,   7,   8,   9,  10,  11,  12,  13,  14,\n",
       "        15,  16,  17,  18,  19,  20,  21,  22,  23,  24,  25,  26,  27,\n",
       "        28,  29,  30,  31,  32,  33,  34,  35,  36,  37,  38,  39,  40,\n",
       "        41,  42,  43,  44,  45,  46,  47,  48,  49,  50,  51,  52,  53,\n",
       "        54,  55,  56,  57,  58,  59,  60,  61,  62,  63,  64,  65,  66,\n",
       "        67,  68,  69,  70,  71,  72,  73,  74,  75,  76,  77,  78,  79,\n",
       "        80,  81,  82,  83,  84,  85,  86,  87,  88,  89,  90,  91,  92,\n",
       "        93,  94,  95,  96,  97,  98,  99, 100, 102, 104, 106, 108, 110,\n",
       "       111, 112, 114, 115, 116, 118, 119, 120, 121, 122, 123, 124, 126,\n",
       "       128, 129, 130, 132, 133, 134, 136, 138, 140, 141, 142, 143, 144,\n",
       "       145, 146, 148, 150, 152, 154, 155, 156, 158, 159, 160, 161, 162,\n",
       "       164, 166, 168, 169, 170, 172, 176, 177, 178, 180, 183, 185, 186,\n",
       "       187, 194, 201, 203, 205, 209, 213, 215, 217, 219, 221, 235, 237,\n",
       "       247, 249, 253, 259, 265, 267, 287, 289, 291])"
      ]
     },
     "execution_count": 70,
     "metadata": {},
     "output_type": "execute_result"
    }
   ],
   "source": [
    "prime2 ## Quizás incorporar productos ??"
   ]
  },
  {
   "cell_type": "code",
   "execution_count": 110,
   "metadata": {},
   "outputs": [],
   "source": [
    "def create_cost2(n,cota):\n",
    "    if n in prime2:\n",
    "        return c[n][1];\n",
    "    else:\n",
    "        #resta + división\n",
    "        min = cota;\n",
    "        for p in prime2:\n",
    "            a = n % p;\n",
    "            ctemp = c[a][1] + c[p][1];\n",
    "            if min - ctemp >=0:\n",
    "                n1 = (n-a)//p;\n",
    "                if n1 != 1:\n",
    "                    ctemp += create_cost(n1,min-ctemp);\n",
    "                if ctemp < min :\n",
    "                    min= ctemp;\n",
    "                    \n",
    "                    #print (p)\n",
    "            ctemp = c[p-a][1] + c[p][1];\n",
    "            \n",
    "            if min - ctemp >=0:\n",
    "                n1 = (n-a)//p +1;\n",
    "                if n1 != 1:\n",
    "                    ctemp += create_cost(n1,min-ctemp);\n",
    "                if ctemp < min :\n",
    "                    min= ctemp;\n",
    "                    #print (p)\n",
    "        return min;"
   ]
  },
  {
   "cell_type": "code",
   "execution_count": 28,
   "metadata": {},
   "outputs": [],
   "source": [
    "for i in a:\n",
    "    if(i>1):\n",
    "        coste=create_cost2(i,100);\n",
    "        if(coste<c[i][1]):\n",
    "            c[i][1]=coste;"
   ]
  },
  {
   "cell_type": "code",
   "execution_count": 96,
   "metadata": {},
   "outputs": [],
   "source": [
    "predicate = np.copy(prime2);\n",
    "predicate=predicate.astype(float)\n",
    "#print(predicate);# not sure if predicate is the best name for this variable\n",
    "for i in range(len(prime2)):\n",
    "    predicate[i]=c[prime2[i]][1]/np.log2(prime2[i]);\n",
    "    #print(predicate[i]);\n",
    "    #print(c[prime2[i]][1]/np.log2(prime2[i]));\n",
    "#print(predicate);\n",
    "order = np.argsort(predicate)\n",
    "#print(order);\n",
    "prime2sorted = np.copy(prime2[order]);\n",
    "#print(prime2[order])"
   ]
  },
  {
   "cell_type": "code",
   "execution_count": 165,
   "metadata": {},
   "outputs": [],
   "source": [
    "def calculate(n,cota):\n",
    "    if n < (97*3+1):\n",
    "        return c[n][1];\n",
    "    else:\n",
    "        #resta + división\n",
    "        min = cota;\n",
    "        for p in prime2sorted:\n",
    "        #for p in reversed_prime:\n",
    "            a = n % p;\n",
    "            ctemp = c[a][1] + c[p][1];\n",
    "            if min - ctemp >=0:\n",
    "                n1 = (n-a)//p;\n",
    "                if n1 != 1:\n",
    "                    ctemp += calculate(n1,min-ctemp);\n",
    "                if ctemp < min :\n",
    "                    min= ctemp;\n",
    "                    \n",
    "                    #print (p)\n",
    "            ctemp = c[p-a][1] + c[p][1];\n",
    "            \n",
    "            if min - ctemp >=0:\n",
    "                n1 = (n-a)//p +1;\n",
    "                if n1 != 1:\n",
    "                    ctemp += calculate(n1,min-ctemp);\n",
    "                if ctemp < min :\n",
    "                    min= ctemp;\n",
    "                    #print (p)\n",
    "        return min;"
   ]
  },
  {
   "cell_type": "code",
   "execution_count": 170,
   "metadata": {},
   "outputs": [
    {
     "name": "stdout",
     "output_type": "stream",
     "text": [
      "2019-10-17 14:37:47.400404\n",
      "4\n",
      "2019-10-17 14:37:47.581300\n"
     ]
    }
   ],
   "source": [
    "import datetime\n",
    "print(datetime.datetime.now())\n",
    "#print(costemejorado(1234567,47,100))\n",
    "print(calculate(36274,100))\n",
    "print(datetime.datetime.now())\n"
   ]
  },
  {
   "cell_type": "code",
   "execution_count": 105,
   "metadata": {},
   "outputs": [
    {
     "name": "stdout",
     "output_type": "stream",
     "text": [
      "[ 97  89  83  79  73  71  67  61  59  53  47  43  41  37  31  29  23  19\n",
      " 291 289  17 287 267 265 259 253 249 247 237 235 221 219 217 215 213 209\n",
      " 205 203 201 194 187 186 185 183 180 178 177 176 172 170 169  13 168 166\n",
      " 164 162 161 160 159 158 156 155 154 152 150 148 146 145 144 143 142 141\n",
      " 140 138 136 134 133 132 130 129 128 126 124 123 122 121  11 120 119 118\n",
      " 116 115 114 112 111 110 108 106 104 102 100  99  98  96  95  94  93  92\n",
      "  91  90  88  87  86  85  84  82  81  80  78  77  76  75  74  72  70  69\n",
      "  68  66  65  64  63  62  60  58  57  56  55  54  52  51  50  49   7  48\n",
      "  46  45  44  42  40  39  38  36  35  34  33  32  30  28  27  26   5  25\n",
      "  24  22  21  20  18  16  15  14  12  10   9   3   8   6   4   2]\n",
      "[1.         0.63092975 1.         0.43067656 0.77370561 0.35620719\n",
      " 0.66666667 0.63092975 0.60205999 0.28906483 0.55788589 0.27023815\n",
      " 0.52529907 0.51191605 0.5        0.24465054 0.47962493 0.23540891\n",
      " 0.46275643 0.4553405  0.44848765 0.22106473 0.43620858 0.43067656\n",
      " 0.42549211 0.42061984 0.4160292  0.20584683 0.40759009 0.20184909\n",
      " 0.4        0.39647973 0.39312326 0.38991804 0.38685281 0.19195872\n",
      " 0.38110282 0.37840072 0.37580365 0.18665241 0.37089805 0.18428883\n",
      " 0.3663385  0.3641758  0.36208519 0.18003133 0.35810446 0.35620719\n",
      " 0.35436764 0.35258287 0.35085013 0.17458343 0.34753069 0.34593938\n",
      " 0.34439087 0.3428832  0.34141456 0.16999162 0.33858762 0.1686131\n",
      " 0.33589756 0.33460036 0.33333333 0.33209529 0.33088511 0.16485086\n",
      " 0.3285441  0.32741131 0.32630244 0.16260831 0.32415305 0.16155547\n",
      " 0.32208954 0.32108817 0.32010615 0.31914283 0.31819762 0.15863496\n",
      " 0.31635918 0.31546488 0.31458649 0.15686177 0.31287558 0.31204213\n",
      " 0.31122278 0.31041713 0.30962477 0.15442266 0.30807844 0.30732377\n",
      " 0.30658098 0.30584974 0.30512974 0.30442069 0.30372231 0.15151715\n",
      " 0.30235642 0.3016884  0.30103    0.29974108 0.29848787 0.29726868\n",
      " 0.29608191 0.2949261  0.29435937 0.29379987 0.29270192 0.29216316\n",
      " 0.29163102 0.29058604 0.29007293 0.2895659  0.28906483 0.28856959\n",
      " 0.28808006 0.28759614 0.28664466 0.28571429 0.28525676 0.28480422\n",
      " 0.2839137  0.28347554 0.283042   0.28218843 0.28135234 0.28053312\n",
      " 0.28012965 0.27973017 0.27933463 0.27894295 0.27855506 0.2781709\n",
      " 0.27741354 0.27667038 0.27594095 0.27522482 0.27487161 0.27452156\n",
      " 0.27383078 0.27348995 0.2731521  0.27281717 0.27248513 0.27182954\n",
      " 0.27118499 0.27055115 0.27023815 0.26992772 0.2693144  0.26811694\n",
      " 0.26782347 0.26753228 0.26695665 0.26610962 0.26555553 0.26528159\n",
      " 0.26500967 0.26316091 0.26140197 0.26091485 0.2604343  0.25949225\n",
      " 0.25857467 0.25812471 0.25768045 0.25724177 0.25680855 0.25391934\n",
      " 0.25352581 0.25162401 0.25125622 0.25053258 0.24947584 0.24845188\n",
      " 0.24811753 0.24495074 0.24465054 0.24435314]\n"
     ]
    }
   ],
   "source": [
    "print(prime2sorted)\n",
    "print(predicate)"
   ]
  }
 ],
 "metadata": {
  "kernelspec": {
   "display_name": "Python 3",
   "language": "python",
   "name": "python3"
  },
  "language_info": {
   "codemirror_mode": {
    "name": "ipython",
    "version": 3
   },
   "file_extension": ".py",
   "mimetype": "text/x-python",
   "name": "python",
   "nbconvert_exporter": "python",
   "pygments_lexer": "ipython3",
   "version": "3.7.3"
  }
 },
 "nbformat": 4,
 "nbformat_minor": 4
}
