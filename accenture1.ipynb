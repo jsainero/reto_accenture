{
 "cells": [
  {
   "cell_type": "code",
   "execution_count": 82,
   "metadata": {},
   "outputs": [],
   "source": [
    "import numpy as np"
   ]
  },
  {
   "cell_type": "code",
   "execution_count": 83,
   "metadata": {},
   "outputs": [],
   "source": [
    "prime = np.array([2, 3, 5, 7, 11, 13, 17, 19, 23, 29, 31, 37, 41, 43, 47, 53, 59, 61, 67, 71, 73, 79, 83, 89, 97])\n",
    "cost = np.array([0,1,1,1,2,1,2,1,2,2,2,1,2,1,2,2,2,1,2,1,2,2,2,1,2,2,2,2,2,1,2,1,2,2,2,2,2,1,2,2,2,1,2,1,2,2,2,1,2,2,2,2,2,1])"
   ]
  },
  {
   "cell_type": "code",
   "execution_count": 84,
   "metadata": {},
   "outputs": [],
   "source": [
    "reversed_prime = prime[::-1]"
   ]
  },
  {
   "cell_type": "code",
   "execution_count": 85,
   "metadata": {},
   "outputs": [],
   "source": [
    "def coste (n,p):\n",
    "    if n < p:\n",
    "        if n ==1 :\n",
    "            return 0;\n",
    "        else:\n",
    "            return cost[p];\n",
    "    else:\n",
    "        a = n % p;\n",
    "        return cost[a] + cost[p] + coste((n-a)//p,p);"
   ]
  },
  {
   "cell_type": "code",
   "execution_count": 86,
   "metadata": {},
   "outputs": [],
   "source": [
    "def costemejorado (n,p,cota):\n",
    "    if n < p:\n",
    "        if n == 1 :\n",
    "            return 0;\n",
    "        else:\n",
    "            return cost[n];\n",
    "    else:\n",
    "        a = n % p;\n",
    "        n = (n-a)//p;\n",
    "        coste = cost[a] + cost[p];\n",
    "        min = cota - coste;\n",
    "        if min >= 0:\n",
    "            for q in reversed_prime:\n",
    "                temp = costemejorado(n,q,min);\n",
    "                if temp < min :\n",
    "                    min = temp;\n",
    "            coste += min;\n",
    "        return coste;"
   ]
  },
  {
   "cell_type": "code",
   "execution_count": 88,
   "metadata": {},
   "outputs": [],
   "source": [
    "costaçao=np.array([]);\n",
    "for i in np.linspace(1,3*97,3*97):\n",
    "    costaçao=np.append(costaçao,[(int(i),100)])"
   ]
  },
  {
   "cell_type": "code",
   "execution_count": 89,
   "metadata": {},
   "outputs": [],
   "source": [
    "import itertools\n",
    "a=np.arange(3*97+1)\n",
    "b=np.array([100])\n",
    "c=list(product(a,b))\n",
    "c=np.asarray(c)"
   ]
  },
  {
   "cell_type": "code",
   "execution_count": 90,
   "metadata": {},
   "outputs": [],
   "source": [
    "for i in prime:\n",
    "    c[i][1]=1"
   ]
  },
  {
   "cell_type": "code",
   "execution_count": 91,
   "metadata": {},
   "outputs": [],
   "source": [
    "c[0][1]=0\n",
    "c[1][1]=1;"
   ]
  },
  {
   "cell_type": "code",
   "execution_count": 92,
   "metadata": {},
   "outputs": [],
   "source": [
    "def create_cost(n,cota):\n",
    "    if n in prime:\n",
    "        return c[n][1];\n",
    "    else:\n",
    "        #resta + división\n",
    "        min = cota;\n",
    "        for p in prime:\n",
    "            a = n % p;\n",
    "            ctemp = c[a][1] + c[p][1];\n",
    "            if min - ctemp >=0:\n",
    "                n1 = (n-a)//p;\n",
    "                if n1 != 1:\n",
    "                    ctemp += create_cost(n1,min-ctemp);\n",
    "                if ctemp < min :\n",
    "                    min= ctemp;\n",
    "                    \n",
    "                    #print (p)\n",
    "            ctemp = c[p-a][1] + c[p][1];\n",
    "            \n",
    "            if min - ctemp >=0:\n",
    "                n1 = (n-a)//p +1;\n",
    "                if n1 != 1:\n",
    "                    ctemp += create_cost(n1,min-ctemp);\n",
    "                if ctemp < min :\n",
    "                    min= ctemp;\n",
    "                    #print (p)\n",
    "        return min;"
   ]
  },
  {
   "cell_type": "code",
   "execution_count": 93,
   "metadata": {},
   "outputs": [
    {
     "data": {
      "text/plain": [
       "2"
      ]
     },
     "execution_count": 93,
     "metadata": {},
     "output_type": "execute_result"
    }
   ],
   "source": [
    "create_cost(123,7)"
   ]
  },
  {
   "cell_type": "code",
   "execution_count": 94,
   "metadata": {},
   "outputs": [],
   "source": [
    "for i in a:\n",
    "    if(i>1):\n",
    "        coste=create_cost(i,100);\n",
    "        if(coste<c[i][1]):\n",
    "            c[i][1]=coste;"
   ]
  },
  {
   "cell_type": "code",
   "execution_count": 96,
   "metadata": {},
   "outputs": [],
   "source": [
    "prime2 = np.array(2);\n",
    "for i in a:\n",
    "    if(int(i)>2):\n",
    "        if(c[i][1]<=2):\n",
    "            prime2=np.append(prime2, int(i));"
   ]
  },
  {
   "cell_type": "code",
   "execution_count": 61,
   "metadata": {},
   "outputs": [
    {
     "data": {
      "text/plain": [
       "array([  2,   3,   4,   5,   6,   7,   8,   9,  10,  11,  12,  13,  14,\n",
       "        15,  16,  17,  18,  19,  20,  21,  22,  23,  24,  25,  26,  27,\n",
       "        28,  29,  30,  31,  32,  33,  34,  35,  36,  37,  38,  39,  40,\n",
       "        41,  42,  43,  44,  45,  46,  47,  48,  49,  50,  51,  52,  53,\n",
       "        54,  55,  56,  57,  58,  59,  60,  61,  62,  63,  64,  65,  66,\n",
       "        67,  68,  69,  70,  71,  72,  73,  74,  75,  76,  77,  78,  79,\n",
       "        80,  81,  82,  83,  84,  85,  86,  87,  88,  89,  90,  91,  92,\n",
       "        93,  94,  95,  96,  97,  98,  99, 100, 102, 104, 106, 108, 110,\n",
       "       111, 112, 114, 115, 116, 118, 119, 120, 121, 122, 123, 124, 126,\n",
       "       128, 129, 130, 132, 133, 134, 136, 138, 140, 141, 142, 143, 144,\n",
       "       145, 146, 148, 150, 152, 154, 155, 156, 158, 159, 160, 161, 162,\n",
       "       164, 166, 168, 169, 170, 172, 176, 177, 178, 180, 183, 185, 186,\n",
       "       187, 194, 201, 203, 205, 209, 213, 215, 217, 219, 221, 235, 237,\n",
       "       247, 249, 253, 259, 265, 267, 287, 289, 291])"
      ]
     },
     "execution_count": 61,
     "metadata": {},
     "output_type": "execute_result"
    }
   ],
   "source": [
    "prime2 ## Quizás incorporar productos ??"
   ]
  },
  {
   "cell_type": "code",
   "execution_count": 62,
   "metadata": {},
   "outputs": [],
   "source": [
    "def create_cost2(n,cota):\n",
    "    if n in prime2:\n",
    "        return c[n][1];\n",
    "    else:\n",
    "        #resta + división\n",
    "        min = cota;\n",
    "        for p in prime2:\n",
    "            a = n % p;\n",
    "            ctemp = c[a][1] + c[p][1];\n",
    "            if min - ctemp >=0:\n",
    "                n1 = (n-a)//p;\n",
    "                if n1 != 1:\n",
    "                    ctemp += create_cost(n1,min-ctemp);\n",
    "                if ctemp < min :\n",
    "                    min= ctemp;\n",
    "                    \n",
    "                    #print (p)\n",
    "            ctemp = c[p-a][1] + c[p][1];\n",
    "            \n",
    "            if min - ctemp >=0:\n",
    "                n1 = (n-a)//p +1;\n",
    "                if n1 != 1:\n",
    "                    ctemp += create_cost(n1,min-ctemp);\n",
    "                if ctemp < min :\n",
    "                    min= ctemp;\n",
    "                    #print (p)\n",
    "        return min;"
   ]
  },
  {
   "cell_type": "code",
   "execution_count": 81,
   "metadata": {},
   "outputs": [
    {
     "ename": "TypeError",
     "evalue": "'numpy.int32' object is not iterable",
     "output_type": "error",
     "traceback": [
      "\u001b[1;31m---------------------------------------------------------------------------\u001b[0m",
      "\u001b[1;31mTypeError\u001b[0m                                 Traceback (most recent call last)",
      "\u001b[1;32m<ipython-input-81-13df9bea8e52>\u001b[0m in \u001b[0;36m<module>\u001b[1;34m\u001b[0m\n\u001b[1;32m----> 1\u001b[1;33m \u001b[1;32mfor\u001b[0m \u001b[0mi\u001b[0m \u001b[1;32min\u001b[0m \u001b[0ma\u001b[0m\u001b[1;33m:\u001b[0m\u001b[1;33m\u001b[0m\u001b[1;33m\u001b[0m\u001b[0m\n\u001b[0m\u001b[0;32m      2\u001b[0m     \u001b[1;32mif\u001b[0m\u001b[1;33m(\u001b[0m\u001b[0mi\u001b[0m\u001b[1;33m>\u001b[0m\u001b[1;36m1\u001b[0m\u001b[1;33m)\u001b[0m\u001b[1;33m:\u001b[0m\u001b[1;33m\u001b[0m\u001b[1;33m\u001b[0m\u001b[0m\n\u001b[0;32m      3\u001b[0m         \u001b[0mcoste\u001b[0m\u001b[1;33m=\u001b[0m\u001b[0mcreate_cost2\u001b[0m\u001b[1;33m(\u001b[0m\u001b[0mi\u001b[0m\u001b[1;33m,\u001b[0m\u001b[1;36m100\u001b[0m\u001b[1;33m)\u001b[0m\u001b[1;33m;\u001b[0m\u001b[1;33m\u001b[0m\u001b[1;33m\u001b[0m\u001b[0m\n\u001b[0;32m      4\u001b[0m         \u001b[1;32mif\u001b[0m\u001b[1;33m(\u001b[0m\u001b[0mcoste\u001b[0m\u001b[1;33m<\u001b[0m\u001b[0mc\u001b[0m\u001b[1;33m[\u001b[0m\u001b[0mi\u001b[0m\u001b[1;33m]\u001b[0m\u001b[1;33m[\u001b[0m\u001b[1;36m1\u001b[0m\u001b[1;33m]\u001b[0m\u001b[1;33m)\u001b[0m\u001b[1;33m:\u001b[0m\u001b[1;33m\u001b[0m\u001b[1;33m\u001b[0m\u001b[0m\n\u001b[0;32m      5\u001b[0m             \u001b[0mc\u001b[0m\u001b[1;33m[\u001b[0m\u001b[0mi\u001b[0m\u001b[1;33m]\u001b[0m\u001b[1;33m[\u001b[0m\u001b[1;36m1\u001b[0m\u001b[1;33m]\u001b[0m\u001b[1;33m=\u001b[0m\u001b[0mcoste\u001b[0m\u001b[1;33m;\u001b[0m\u001b[1;33m\u001b[0m\u001b[1;33m\u001b[0m\u001b[0m\n",
      "\u001b[1;31mTypeError\u001b[0m: 'numpy.int32' object is not iterable"
     ]
    }
   ],
   "source": [
    "for i in a:\n",
    "    if(i>1):\n",
    "        coste=create_cost2(i,100);\n",
    "        if(coste<c[i][1]):\n",
    "            c[i][1]=coste;"
   ]
  },
  {
   "cell_type": "code",
   "execution_count": 80,
   "metadata": {},
   "outputs": [],
   "source": [
    "predicate = np.copy(prime2);\n",
    "predicate=predicate.astype(float)\n",
    "#print(predicate);# not sure if predicate is the best name for this variable\n",
    "for i in range(len(prime2)):\n",
    "    predicate[i]=c[prime2[i]][1]/np.log2(prime2[i]);\n",
    "    #print(predicate[i]);\n",
    "    #print(c[prime2[i]][1]/np.log2(prime2[i]));\n",
    "#print(predicate);\n",
    "order = np.argsort(predicate)\n",
    "#print(order);\n",
    "prime2sorted = np.copy(prime2[order]);\n",
    "#print(prime2[order])"
   ]
  },
  {
   "cell_type": "code",
   "execution_count": 73,
   "metadata": {},
   "outputs": [
    {
     "name": "stdout",
     "output_type": "stream",
     "text": [
      "[ 97  89  83  79  73  71  67  61  59  53  47  43  41  37  31  29  23  19\n",
      " 291 289  17 287 267 265 259 253 249]\n"
     ]
    }
   ],
   "source": [
    "prime2sortedlite= prime2sorted[:27] \n",
    "print(prime2sortedlite)"
   ]
  },
  {
   "cell_type": "code",
   "execution_count": 99,
   "metadata": {},
   "outputs": [],
   "source": [
    "def calculate(n,cota,prime_list):\n",
    "    #if n < (97*3+1):\n",
    "        #return c[n][1];\n",
    "    if n in prime_list:\n",
    "        return c[n][1];\n",
    "    else:\n",
    "        #resta + división\n",
    "        min = cota;\n",
    "        #for p in prime2sorted:\n",
    "        for p in prime_list:\n",
    "            a = n % p;\n",
    "            if a in prime_list:\n",
    "                ctemp = c[a][1] + c[p][1];\n",
    "            else:\n",
    "                ctemp=100;\n",
    "            if min - ctemp >=0:\n",
    "                n1 = (n-a)//p;\n",
    "                if n1 != 1:\n",
    "                    ctemp += calculate(n1,min-ctemp,prime_list);\n",
    "                if ctemp < min :\n",
    "                    min= ctemp;\n",
    "                    \n",
    "                    #print (p)\n",
    "            if p-a in prime_list:\n",
    "                ctemp = c[p-a][1] + c[p][1];\n",
    "            else:\n",
    "                ctemp=100;\n",
    "            \n",
    "            if min - ctemp >=0:\n",
    "                n1 = (n-a)//p +1;\n",
    "                if n1 != 1:\n",
    "                    ctemp += calculate(n1,min-ctemp,prime_list);\n",
    "                if ctemp < min :\n",
    "                    min= ctemp;\n",
    "                    #print (p)\n",
    "        return min;"
   ]
  },
  {
   "cell_type": "code",
   "execution_count": 103,
   "metadata": {},
   "outputs": [
    {
     "name": "stdout",
     "output_type": "stream",
     "text": [
      "2019-10-18 14:06:36.070029\n",
      "4\n",
      "2019-10-18 14:06:36.089237\n",
      "4\n",
      "2019-10-18 14:06:36.093260\n"
     ]
    }
   ],
   "source": [
    "import datetime\n",
    "n=97+83+91\n",
    "print(datetime.datetime.now())\n",
    "a=calculate(n,100,reversed_prime)\n",
    "print(a)\n",
    "print(datetime.datetime.now())\n",
    "print(calculate(n,100,prime2sortedlite))\n",
    "print(datetime.datetime.now())"
   ]
  },
  {
   "cell_type": "code",
   "execution_count": null,
   "metadata": {},
   "outputs": [],
   "source": []
  }
 ],
 "metadata": {
  "kernelspec": {
   "display_name": "Python 3",
   "language": "python",
   "name": "python3"
  },
  "language_info": {
   "codemirror_mode": {
    "name": "ipython",
    "version": 3
   },
   "file_extension": ".py",
   "mimetype": "text/x-python",
   "name": "python",
   "nbconvert_exporter": "python",
   "pygments_lexer": "ipython3",
   "version": "3.7.3"
  }
 },
 "nbformat": 4,
 "nbformat_minor": 4
}
