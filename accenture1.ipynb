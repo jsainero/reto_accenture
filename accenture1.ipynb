{
 "cells": [
  {
   "cell_type": "code",
   "execution_count": 2,
   "metadata": {},
   "outputs": [],
   "source": [
    "import numpy as np"
   ]
  },
  {
   "cell_type": "code",
   "execution_count": 39,
   "metadata": {},
   "outputs": [],
   "source": [
    "prime = np.array([2, 3, 5, 7, 11, 13, 17, 19, 23, 29, 31, 37, 41, 43, 47, 53, 59, 61, 67, 71, 73, 79, 83, 89, 97])\n",
    "cost = np.array([0,1,1,1,2,1,2,1,2,2,2,1,2,1,2,2,2,1,2,1,2,2,2,1,2,2,2,2,2,1,2,1,2,2,2,2,2,1,2,2,2,1,2,1,2,2,2,1,2,2,2,2,2,1])"
   ]
  },
  {
   "cell_type": "code",
   "execution_count": 4,
   "metadata": {},
   "outputs": [],
   "source": [
    "reversed_prime = prime[::-1]"
   ]
  },
  {
   "cell_type": "code",
   "execution_count": 5,
   "metadata": {},
   "outputs": [],
   "source": [
    "def coste (n,p):\n",
    "    if n < p:\n",
    "        if n ==1 :\n",
    "            return 0;\n",
    "        else:\n",
    "            return cost[p];\n",
    "    else:\n",
    "        a = n % p;\n",
    "        return cost[a] + cost[p] + coste((n-a)//p,p);"
   ]
  },
  {
   "cell_type": "code",
   "execution_count": 10,
   "metadata": {},
   "outputs": [],
   "source": [
    "def costemejorado (n,p,cota):\n",
    "    if n < p:\n",
    "        if n == 1 :\n",
    "            return 0;\n",
    "        else:\n",
    "            return cost[n];\n",
    "    else:\n",
    "        a = n % p;\n",
    "        n = (n-a)//p;\n",
    "        coste = cost[a] + cost[p];\n",
    "        min = cota - coste;\n",
    "        if min >= 0:\n",
    "            for q in reversed_prime:\n",
    "                temp = costemejorado(n,q,min);\n",
    "                if temp < min :\n",
    "                    min = temp;\n",
    "            coste += min;\n",
    "        return coste;"
   ]
  },
  {
   "cell_type": "code",
   "execution_count": 11,
   "metadata": {},
   "outputs": [
    {
     "data": {
      "text/plain": [
       "12"
      ]
     },
     "execution_count": 11,
     "metadata": {},
     "output_type": "execute_result"
    }
   ],
   "source": [
    "costemejorado((53*53*53*53*53*53+1)//2,53,100)"
   ]
  },
  {
   "cell_type": "code",
   "execution_count": 24,
   "metadata": {},
   "outputs": [],
   "source": [
    "costaçao=np.array([]);\n",
    "for i in np.linspace(1,3*97,3*97):\n",
    "    costaçao=np.append(costaçao,[(int(i),100)])"
   ]
  },
  {
   "cell_type": "code",
   "execution_count": 37,
   "metadata": {},
   "outputs": [],
   "source": [
    "from itertools import product\n",
    "a=np.arange(3*97+1)\n",
    "b=np.array([100])\n",
    "c=list(product(a,b))\n",
    "c=np.asarray(c)"
   ]
  },
  {
   "cell_type": "code",
   "execution_count": 40,
   "metadata": {},
   "outputs": [],
   "source": [
    "for i in prime:\n",
    "    c[i][1]=1"
   ]
  },
  {
   "cell_type": "code",
   "execution_count": 42,
   "metadata": {},
   "outputs": [],
   "source": [
    "c[0][1]=0\n",
    "c[1][1]=1;"
   ]
  },
  {
   "cell_type": "code",
   "execution_count": 65,
   "metadata": {},
   "outputs": [],
   "source": [
    "def create_cost(n,cota):\n",
    "    if n in prime:\n",
    "        return c[n][1];\n",
    "    else:\n",
    "        #resta + división\n",
    "        min = cota;\n",
    "        for p in prime:\n",
    "            a = n % p;\n",
    "            ctemp = c[a][1] + c[p][1];\n",
    "            if min - ctemp >=0:\n",
    "                n1 = (n-a)//p;\n",
    "                if n1 != 1:\n",
    "                    ctemp += create_cost(n1,min-ctemp);\n",
    "                if ctemp < min :\n",
    "                    min= ctemp;\n",
    "                    \n",
    "                    print (p)\n",
    "            ctemp = c[p-a][1] + c[p][1];\n",
    "            \n",
    "            if min - ctemp >=0:\n",
    "                n1 = (n-a)//p +1;\n",
    "                if n1 != 1:\n",
    "                    ctemp += create_cost(n1,min-ctemp);\n",
    "                if ctemp < min :\n",
    "                    min= ctemp;\n",
    "                    print (p)\n",
    "        return min;"
   ]
  },
  {
   "cell_type": "code",
   "execution_count": 67,
   "metadata": {},
   "outputs": [
    {
     "name": "stdout",
     "output_type": "stream",
     "text": [
      "2\n",
      "3\n"
     ]
    },
    {
     "data": {
      "text/plain": [
       "2"
      ]
     },
     "execution_count": 67,
     "metadata": {},
     "output_type": "execute_result"
    }
   ],
   "source": [
    "create_cost(123,7)"
   ]
  },
  {
   "cell_type": "code",
   "execution_count": null,
   "metadata": {},
   "outputs": [],
   "source": []
  },
  {
   "cell_type": "code",
   "execution_count": null,
   "metadata": {},
   "outputs": [],
   "source": []
  }
 ],
 "metadata": {
  "kernelspec": {
   "display_name": "Python 3",
   "language": "python",
   "name": "python3"
  },
  "language_info": {
   "codemirror_mode": {
    "name": "ipython",
    "version": 3
   },
   "file_extension": ".py",
   "mimetype": "text/x-python",
   "name": "python",
   "nbconvert_exporter": "python",
   "pygments_lexer": "ipython3",
   "version": "3.7.3"
  }
 },
 "nbformat": 4,
 "nbformat_minor": 2
}
