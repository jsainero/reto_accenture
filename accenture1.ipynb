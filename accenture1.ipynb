{
 "cells": [
  {
   "cell_type": "code",
   "execution_count": 7,
   "metadata": {
    "collapsed": false
   },
   "outputs": [
   ],
   "source": [
    "import numpy as np"
   ]
  },
  {
   "cell_type": "code",
   "execution_count": 56,
   "metadata": {
    "collapsed": false
   },
   "outputs": [
   ],
   "source": [
    "prime = np.array([2, 3, 5, 7, 11, 13, 17, 19, 23, 29, 31, 37, 41, 43, 47, 53, 59, 61, 67, 71, 73, 79, 83, 89, 97])\n",
    "cost = np.array([0,1,1,1,2,1,2,1,2,2,2,1,2,1,2,2,2,1,2,1,2,2,2,1,2,2,2,2,2,1,2,1,2,2,2,2,2,1,2,2,2,1,2,1,2,2,2,1,2,2,2,2,2,1])"
   ]
  },
  {
   "cell_type": "code",
   "execution_count": 57,
   "metadata": {
    "collapsed": false
   },
   "outputs": [
   ],
   "source": [
    "reversed_prime = prime[::-1]"
   ]
  },
  {
   "cell_type": "code",
   "execution_count": 4,
   "metadata": {
    "collapsed": false
   },
   "outputs": [
   ],
   "source": [
    "def coste (n,p):\n",
    "    if n < p:\n",
    "        if n ==1 :\n",
    "            return 0;\n",
    "        else:\n",
    "            return cost[p];\n",
    "    else:\n",
    "        a = n % p;\n",
    "        return cost[a] + cost[p] + coste((n-a)//p,p);"
   ]
  },
  {
   "cell_type": "code",
   "execution_count": 5,
   "metadata": {
    "collapsed": false
   },
   "outputs": [
   ],
   "source": [
    "def costemejorado (n,p,cota):\n",
    "    if n < p:\n",
    "        if n == 1 :\n",
    "            return 0;\n",
    "        else:\n",
    "            return cost[n];\n",
    "    else:\n",
    "        a = n % p;\n",
    "        n = (n-a)//p;\n",
    "        coste = cost[a] + cost[p];\n",
    "        min = cota - coste;\n",
    "        if min >= 0:\n",
    "            for q in reversed_prime:\n",
    "                temp = costemejorado(n,q,min);\n",
    "                if temp < min :\n",
    "                    min = temp;\n",
    "            coste += min;\n",
    "        return coste;"
   ]
  },
  {
   "cell_type": "code",
   "execution_count": 6,
   "metadata": {
    "collapsed": false
   },
   "outputs": [
   ],
   "source": [
    "costaçao=np.array([]);\n",
    "for i in np.linspace(1,3*97,3*97):\n",
    "    costaçao=np.append(costaçao,[(int(i),100)])"
   ]
  },
  {
   "cell_type": "code",
   "execution_count": 7,
   "metadata": {
    "collapsed": false
   },
   "outputs": [
   ],
   "source": [
    "import itertools\n",
    "a=np.arange(97+1)\n",
    "b=np.array([100])\n",
    "c=list(itertools.product(a,b))\n",
    "c=np.asarray(c)"
   ]
  },
  {
   "cell_type": "code",
   "execution_count": 8,
   "metadata": {
    "collapsed": false
   },
   "outputs": [
   ],
   "source": [
    "for i in prime:\n",
    "    c[i][1]=1"
   ]
  },
  {
   "cell_type": "code",
   "execution_count": 9,
   "metadata": {
    "collapsed": false
   },
   "outputs": [
   ],
   "source": [
    "c[0][1]=0\n",
    "c[1][1]=1;"
   ]
  },
  {
   "cell_type": "code",
   "execution_count": 10,
   "metadata": {
    "collapsed": false
   },
   "outputs": [
   ],
   "source": [
    "def create_cost(n,cota):\n",
    "    if n in prime:\n",
    "        return c[n][1];\n",
    "    else:\n",
    "        #resta + división\n",
    "        min = cota;\n",
    "        for p in prime:\n",
    "            a = n % p;\n",
    "            ctemp = c[a][1] + c[p][1];\n",
    "            if min - ctemp >=0:\n",
    "                n1 = (n-a)//p;\n",
    "                if n1 != 1:\n",
    "                    ctemp += create_cost(n1,min-ctemp);\n",
    "                if ctemp < min :\n",
    "                    min= ctemp;\n",
    "                    \n",
    "                    #print (p)\n",
    "            ctemp = c[p-a][1] + c[p][1];\n",
    "            \n",
    "            if min - ctemp >=0:\n",
    "                n1 = (n-a)//p +1;\n",
    "                if n1 != 1:\n",
    "                    ctemp += create_cost(n1,min-ctemp);\n",
    "                if ctemp < min :\n",
    "                    min= ctemp;\n",
    "                    #print (p)\n",
    "        return min;"
   ]
  },
  {
   "cell_type": "code",
   "execution_count": 24,
   "metadata": {
    "collapsed": false
   },
   "outputs": [
    {
     "ename": "SyntaxError",
     "evalue": "invalid syntax (<ipython-input-24-dc32d70b863e>, line 22)",
     "output_type": "error",
     "traceback": [
      "\u001b[0;36m  File \u001b[0;32m\"<ipython-input-24-dc32d70b863e>\"\u001b[0;36m, line \u001b[0;32m22\u001b[0m\n\u001b[0;31m    strv+\u001b[0m\n\u001b[0m         ^\u001b[0m\n\u001b[0;31mSyntaxError\u001b[0m\u001b[0;31m:\u001b[0m invalid syntax\n"
     ]
    }
   ],
   "source": [
    "def create_cost_str(n,cota):\n",
    "    strv=\"\";\n",
    "    if n in prime:\n",
    "        return c[n][1],str(n);\n",
    "        #También si está en el diccionario aunque no sea primo loco!\n",
    "    else:\n",
    "        #resta + división\n",
    "        min = cota;\n",
    "        for p in prime:\n",
    "            a = n % p;\n",
    "            ctemp = c[a][1] + c[p][1];\n",
    "            if min - ctemp >=0:\n",
    "                n1 = (n-a)//p;\n",
    "                if n1 != 1:\n",
    "                    aux,str_n1 = create_cost_str(n1,min-ctemp);\n",
    "                    ctemp += aux;\n",
    "                else:\n",
    "                    str_n1=\"\";\n",
    "                if ctemp < min :\n",
    "                    min= ctemp;\n",
    "                    strv=\"(\"+str_n1+\")*\"+str(p);\n",
    "                    if a!=0:\n",
    "                        strv=strv+\"+\"+str(a); \n",
    "                        #CUIDADO CON STR a ver que es\n",
    "                        #En realidad hay que sacar str(a),str(p) del diccionario, que a veces no es primo!\n",
    "            \n",
    "            ctemp = c[p-a][1] + c[p][1];\n",
    "            \n",
    "            if min - ctemp >=0:\n",
    "                n1 = (n-a)//p +1;\n",
    "                if n1 != 1:\n",
    "                    (aux,str_n1) = create_cost_str(n1,min-ctemp);\n",
    "                    ctemp += aux;\n",
    "                else:\n",
    "                    str_n1=\"\";\n",
    "                if ctemp < min :\n",
    "                    min= ctemp;\n",
    "                    strv=\"(\"+str_n1+\")*\"+str(p)+\"+\"+str(a);\n",
    "                    #print (p)\n",
    "        return min,strv;"
   ]
  },
  {
   "cell_type": "code",
   "execution_count": 0,
   "metadata": {
    "collapsed": false
   },
   "outputs": [
   ],
   "source": [
    "create_cost_str(10,7)"
   ]
  },
  {
   "cell_type": "code",
   "execution_count": 12,
   "metadata": {
    "collapsed": false
   },
   "outputs": [
    {
     "data": {
      "text/plain": [
       "2"
      ]
     },
     "execution_count": 12,
     "metadata": {
     },
     "output_type": "execute_result"
    }
   ],
   "source": [
    "create_cost(123,7)"
   ]
  },
  {
   "cell_type": "code",
   "execution_count": 13,
   "metadata": {
    "collapsed": false
   },
   "outputs": [
   ],
   "source": [
    "for i in a:\n",
    "    if(i>1):\n",
    "        coste=create_cost(i,4);\n",
    "        if(coste<c[i][1]):\n",
    "            c[i][1]=coste;"
   ]
  },
  {
   "cell_type": "code",
   "execution_count": 14,
   "metadata": {
    "collapsed": false
   },
   "outputs": [
    {
     "ename": "NameError",
     "evalue": "name 'datetime' is not defined",
     "output_type": "error",
     "traceback": [
      "\u001b[0;31m---------------------------------------------------------------------------\u001b[0m",
      "\u001b[0;31mNameError\u001b[0m                                 Traceback (most recent call last)",
      "\u001b[0;32m<ipython-input-14-7a2a6d8f168b>\u001b[0m in \u001b[0;36m<module>\u001b[0;34m\u001b[0m\n\u001b[0;32m----> 1\u001b[0;31m \u001b[0mprint\u001b[0m\u001b[0;34m(\u001b[0m\u001b[0mdatetime\u001b[0m\u001b[0;34m.\u001b[0m\u001b[0mdatetime\u001b[0m\u001b[0;34m.\u001b[0m\u001b[0mnow\u001b[0m\u001b[0;34m(\u001b[0m\u001b[0;34m)\u001b[0m\u001b[0;34m)\u001b[0m\u001b[0;34m\u001b[0m\u001b[0;34m\u001b[0m\u001b[0m\n\u001b[0m\u001b[1;32m      2\u001b[0m \u001b[0mcost_sum_prime\u001b[0m \u001b[0;34m=\u001b[0m \u001b[0mdict\u001b[0m\u001b[0;34m(\u001b[0m\u001b[0;34m)\u001b[0m\u001b[0;34m\u001b[0m\u001b[0;34m\u001b[0m\u001b[0m\n\u001b[1;32m      3\u001b[0m \u001b[0;32mfor\u001b[0m \u001b[0mi\u001b[0m \u001b[0;32min\u001b[0m \u001b[0mprime\u001b[0m\u001b[0;34m:\u001b[0m\u001b[0;34m\u001b[0m\u001b[0;34m\u001b[0m\u001b[0m\n\u001b[1;32m      4\u001b[0m     \u001b[0mcost_sum_prime\u001b[0m \u001b[0;34m[\u001b[0m\u001b[0mi\u001b[0m\u001b[0;34m]\u001b[0m\u001b[0;34m=\u001b[0m\u001b[0;36m1\u001b[0m\u001b[0;34m;\u001b[0m\u001b[0;34m\u001b[0m\u001b[0;34m\u001b[0m\u001b[0m\n\u001b[1;32m      5\u001b[0m \u001b[0;32mfor\u001b[0m \u001b[0mi\u001b[0m \u001b[0;32min\u001b[0m \u001b[0mprime\u001b[0m\u001b[0;34m:\u001b[0m\u001b[0;34m\u001b[0m\u001b[0;34m\u001b[0m\u001b[0m\n",
      "\u001b[0;31mNameError\u001b[0m: name 'datetime' is not defined"
     ]
    }
   ],
   "source": [
    "print(datetime.datetime.now())\n",
    "cost_sum_prime = dict()\n",
    "for i in prime:\n",
    "    cost_sum_prime [i]=1;\n",
    "for i in prime:\n",
    "    for j in prime:\n",
    "        if not i+j in cost_sum_prime.keys():\n",
    "            cost_sum_prime[i+j] = 2;\n",
    "        if not i-j in cost_sum_prime.keys():\n",
    "            cost_sum_prime[i-j] = 2;\n",
    "for i in a:\n",
    "    if i>1:\n",
    "        if not i in cost_sum_prime.keys():\n",
    "            coste=create_cost(i,5);\n",
    "            print(i);\n",
    "            cost_sum_prime[i] = coste;\n",
    "print(datetime.datetime.now())\n",
    "print (cost_sum_prime)"
   ]
  },
  {
   "cell_type": "code",
   "execution_count": 15,
   "metadata": {
    "collapsed": false
   },
   "outputs": [
   ],
   "source": [
    "prime2 = np.array(2);\n",
    "for i in a:\n",
    "    if(int(i)>2):\n",
    "        if(c[i][1]<=2):\n",
    "            prime2=np.append(prime2, int(i));"
   ]
  },
  {
   "cell_type": "code",
   "execution_count": 16,
   "metadata": {
    "collapsed": false
   },
   "outputs": [
    {
     "data": {
      "text/plain": [
       "array([ 2,  3,  4,  5,  6,  7,  8,  9, 10, 11, 12, 13, 14, 15, 16, 17, 18,\n",
       "       19, 20, 21, 22, 23, 24, 25, 26, 27, 28, 29, 30, 31, 32, 33, 34, 35,\n",
       "       36, 37, 38, 39, 40, 41, 42, 43, 44, 45, 46, 47, 48, 49, 50, 51, 52,\n",
       "       53, 54, 55, 56, 57, 58, 59, 60, 61, 62, 63, 64, 65, 66, 67, 68, 69,\n",
       "       70, 71, 72, 73, 74, 75, 76, 77, 78, 79, 80, 81, 82, 83, 84, 85, 86,\n",
       "       87, 88, 89, 90, 91, 92, 93, 94, 95, 96, 97])"
      ]
     },
     "execution_count": 16,
     "metadata": {
     },
     "output_type": "execute_result"
    }
   ],
   "source": [
    "prime2 ## Quizás incorporar productos ??"
   ]
  },
  {
   "cell_type": "code",
   "execution_count": 17,
   "metadata": {
    "collapsed": false
   },
   "outputs": [
   ],
   "source": [
    "def create_cost2(n,cota):\n",
    "    if n in prime2:\n",
    "        return c[n][1];\n",
    "    else:\n",
    "        #resta + división\n",
    "        min = cota;\n",
    "        for p in prime2:\n",
    "            a = n % p;\n",
    "            ctemp = c[a][1] + c[p][1];\n",
    "            if min - ctemp >=0:\n",
    "                n1 = (n-a)//p;\n",
    "                if n1 != 1:\n",
    "                    ctemp += create_cost(n1,min-ctemp);\n",
    "                if ctemp < min :\n",
    "                    min= ctemp;\n",
    "                    \n",
    "                    #print (p)\n",
    "            ctemp = c[p-a][1] + c[p][1];\n",
    "            \n",
    "            if min - ctemp >=0:\n",
    "                n1 = (n-a)//p +1;\n",
    "                if n1 != 1:\n",
    "                    ctemp += create_cost(n1,min-ctemp);\n",
    "                if ctemp < min :\n",
    "                    min= ctemp;\n",
    "                    #print (p)\n",
    "        return min;"
   ]
  },
  {
   "cell_type": "code",
   "execution_count": 18,
   "metadata": {
    "collapsed": false
   },
   "outputs": [
   ],
   "source": [
    "for i in a:\n",
    "    if(i>1):\n",
    "        coste=create_cost2(i,100);\n",
    "        if(coste<c[i][1]):\n",
    "            c[i][1]=coste;"
   ]
  },
  {
   "cell_type": "code",
   "execution_count": 19,
   "metadata": {
    "collapsed": false
   },
   "outputs": [
   ],
   "source": [
    "predicate = np.copy(prime2);\n",
    "predicate=predicate.astype(float)\n",
    "#print(predicate);# not sure if predicate is the best name for this variable\n",
    "for i in range(len(prime2)):\n",
    "    predicate[i]=c[prime2[i]][1]/np.log2(prime2[i]);\n",
    "    #print(predicate[i]);\n",
    "    #print(c[prime2[i]][1]/np.log2(prime2[i]));\n",
    "#print(predicate);\n",
    "order = np.argsort(predicate)\n",
    "#print(order);\n",
    "prime2sorted = np.copy(prime2[order]);\n",
    "#print(prime2[order])"
   ]
  },
  {
   "cell_type": "code",
   "execution_count": 20,
   "metadata": {
    "collapsed": false
   },
   "outputs": [
    {
     "name": "stdout",
     "output_type": "stream",
     "text": [
      "[97 89 83 79 73 71 67 61 59 53 47 43 41 37 31 29 23 19 17 13 11 96 95 94\n",
      " 93 92 91]\n"
     ]
    }
   ],
   "source": [
    "prime2sortedlite= prime2sorted[:27] \n",
    "print(prime2sortedlite)"
   ]
  },
  {
   "cell_type": "code",
   "execution_count": 21,
   "metadata": {
    "collapsed": false
   },
   "outputs": [
   ],
   "source": [
    "def calculate(n,cota,prime_list):\n",
    "    #if n < (97*3+1):\n",
    "        #return c[n][1];\n",
    "    if n in prime_list:\n",
    "        return c[n][1];\n",
    "    else:\n",
    "        #resta + división\n",
    "        min = cota;\n",
    "        #for p in prime2sorted:\n",
    "        for p in prime_list:\n",
    "            a = n % p;\n",
    "            if a in prime_list:\n",
    "                ctemp = c[a][1] + c[p][1];\n",
    "            else:\n",
    "                ctemp=100;\n",
    "            if min - ctemp >=0:\n",
    "                n1 = (n-a)//p;\n",
    "                if n1 != 1:\n",
    "                    ctemp += calculate(n1,min-ctemp,prime_list);\n",
    "                if ctemp < min :\n",
    "                    min= ctemp;\n",
    "                    \n",
    "                    #print (p)\n",
    "            if p-a in prime_list:\n",
    "                ctemp = c[p-a][1] + c[p][1];\n",
    "            else:\n",
    "                ctemp=100;\n",
    "            \n",
    "            if min - ctemp >=0:\n",
    "                n1 = (n-a)//p +1;\n",
    "                if n1 != 1:\n",
    "                    ctemp += calculate(n1,min-ctemp,prime_list);\n",
    "                if ctemp < min :\n",
    "                    min= ctemp;\n",
    "                    #print (p)\n",
    "        return min;"
   ]
  },
  {
   "cell_type": "code",
   "execution_count": 22,
   "metadata": {
    "collapsed": false
   },
   "outputs": [
    {
     "name": "stdout",
     "output_type": "stream",
     "text": [
      "2019-11-07 10:46:10.257823\n",
      "4\n",
      "2019-11-07 10:46:10.268858\n",
      "4\n",
      "2019-11-07 10:46:10.274374\n"
     ]
    }
   ],
   "source": [
    "import datetime\n",
    "n=97+83+91\n",
    "print(datetime.datetime.now())\n",
    "a=calculate(n,100,reversed_prime)\n",
    "print(a)\n",
    "print(datetime.datetime.now())\n",
    "print(calculate(n,100,prime2sortedlite))\n",
    "print(datetime.datetime.now())"
   ]
  },
  {
   "cell_type": "code",
   "execution_count": 23,
   "metadata": {
    "collapsed": false
   },
   "outputs": [
    {
     "ename": "FileNotFoundError",
     "evalue": "[Errno 2] No such file or directory: 'TEST.txt'",
     "output_type": "error",
     "traceback": [
      "\u001b[0;31m---------------------------------------------------------------------------\u001b[0m",
      "\u001b[0;31mFileNotFoundError\u001b[0m                         Traceback (most recent call last)",
      "\u001b[0;32m<ipython-input-23-a2e0d998b360>\u001b[0m in \u001b[0;36m<module>\u001b[0;34m\u001b[0m\n\u001b[0;32m----> 1\u001b[0;31m \u001b[0mfhinp\u001b[0m \u001b[0;34m=\u001b[0m \u001b[0mopen\u001b[0m\u001b[0;34m(\u001b[0m\u001b[0;34m'TEST.txt'\u001b[0m\u001b[0;34m)\u001b[0m\u001b[0;34m\u001b[0m\u001b[0;34m\u001b[0m\u001b[0m\n\u001b[0m\u001b[1;32m      2\u001b[0m \u001b[0mfhout\u001b[0m \u001b[0;34m=\u001b[0m \u001b[0mopen\u001b[0m\u001b[0;34m(\u001b[0m\u001b[0;34m'SCORE.txt'\u001b[0m\u001b[0;34m)\u001b[0m\u001b[0;34m\u001b[0m\u001b[0;34m\u001b[0m\u001b[0m\n\u001b[1;32m      3\u001b[0m \u001b[0minputaçao\u001b[0m \u001b[0;34m=\u001b[0m\u001b[0mfh\u001b[0m\u001b[0;34m.\u001b[0m\u001b[0mread\u001b[0m\u001b[0;34m(\u001b[0m\u001b[0;34m)\u001b[0m\u001b[0;34m\u001b[0m\u001b[0;34m\u001b[0m\u001b[0m\n\u001b[1;32m      4\u001b[0m \u001b[0;32mfor\u001b[0m \u001b[0mline\u001b[0m \u001b[0;32min\u001b[0m \u001b[0minputaçao\u001b[0m\u001b[0;34m:\u001b[0m\u001b[0;34m\u001b[0m\u001b[0;34m\u001b[0m\u001b[0m\n\u001b[1;32m      5\u001b[0m     \u001b[0mline_split\u001b[0m \u001b[0;34m=\u001b[0m \u001b[0mlinea\u001b[0m\u001b[0;34m.\u001b[0m\u001b[0msplit\u001b[0m\u001b[0;34m(\u001b[0m\u001b[0;34m'|'\u001b[0m\u001b[0;34m)\u001b[0m\u001b[0;34m\u001b[0m\u001b[0;34m\u001b[0m\u001b[0m\n",
      "\u001b[0;31mFileNotFoundError\u001b[0m: [Errno 2] No such file or directory: 'TEST.txt'"
     ]
    }
   ],
   "source": [
    "fhinp = open('TEST.txt')\n",
    "fhout = open('SCORE.txt')\n",
    "inputaçao =fh.read()\n",
    "for line in inputaçao:\n",
    "    line_split = linea.split('|')\n",
    "    id = line_split[0]\n",
    "    number = int(line_split[1])\n",
    "    prime = int(line_split[2])\n",
    "    #AQUÍ EJECUTAMOS NUESTRA FUNCIÓN\n",
    "    #supongamos que devuelve sol y str_sol\n",
    "    fhout.write(\"DNIdelQuino|\"+id+\"|\"+str(sol)+\"|\"+str_sol)\n",
    "fhinp.close()\n",
    "fhout.close()    "
   ]
  },
  {
   "cell_type": "code",
   "execution_count": 184,
   "metadata": {
    "collapsed": false
   },
   "outputs": [
    {
     "name": "stdout",
     "output_type": "stream",
     "text": [
      "[97 89 83 79 73 71 67 61 59 53]\n"
     ]
    }
   ],
   "source": [
    "costedic={}\n",
    "strdic={}\n",
    "costedic[0]=0;\n",
    "strdic[0]=\"0\";\n",
    "costedic[1]=1;\n",
    "strdic[1]=\"1\";\n",
    "for p in prime:\n",
    "    costedic[p]=1;\n",
    "    strdic[p]=str(p);\n",
    "for p in prime:\n",
    "    for q in prime:\n",
    "        if((not (p+q) in costedic)):\n",
    "            costedic[p+q]=2;\n",
    "            strdic[p+q]=\"(\"+str(p)+\"+\"+str(q)+\")\";\n",
    "        if((not (p-q) in costedic) and (p-q)>0):\n",
    "            costedic[p-q]=2;\n",
    "            strdic[p-q]=\"(\"+str(p)+\"-\"+str(q)+\")\";\n",
    "reversed_prime_lite5=reversed_prime[0:10:1]\n",
    "reversed_prime_lite10=reversed_prime[0:10:1]\n",
    "reversed_prime_lite15=reversed_prime[0:15:1]\n",
    "reversed_prime_lite20=reversed_prime[0:20:1]\n",
    "print(reversed_prime_lite)"
   ]
  },
  {
   "cell_type": "code",
   "execution_count": 185,
   "metadata": {
    "collapsed": false
   },
   "outputs": [
   ],
   "source": [
    "def create_cost_str_wd(n,cota):\n",
    "    strv=\"\";\n",
    "    if n in costedic:\n",
    "        return costedic[n],strdic[n];\n",
    "        #También si está en el diccionario aunque no sea primo loco!\n",
    "    else:\n",
    "        #resta + división\n",
    "        min = cota;\n",
    "        if (n < 10000):\n",
    "            lista=reversed_prime;\n",
    "        elif (n<100000):\n",
    "            lista=reversed_prime_lite20;\n",
    "        elif (n<1000000):\n",
    "            lista=reversed_prime_lite20;\n",
    "        elif (n<10000000):\n",
    "            lista=reversed_prime_lite10;\n",
    "        else:\n",
    "            lista=reversed_prime_lite5; \n",
    "        for p in lista:\n",
    "                a = n % p;\n",
    "                if(a in costedic):\n",
    "                    ctemp = costedic[a] + costedic[p];\n",
    "                    if min - ctemp >=0:\n",
    "                        n1 = (n-a)//p;\n",
    "                        if n1 != 1:\n",
    "                            aux,str_n1 = create_cost_str_wd(n1,min-ctemp);\n",
    "                            ctemp += aux;\n",
    "                        else:\n",
    "                            str_n1=\"\";\n",
    "                        if ctemp < min :\n",
    "                            min= ctemp;\n",
    "                            strv=\"(\"+str_n1+\")*\"+str(p);\n",
    "                            if a!=0:\n",
    "                                strv+=\"+\"+strdic[a]; \n",
    "                                #CUIDADO CON STR a ver que es\n",
    "                                #En realidad hay que sacar str(a),str(p) del diccionario, que a veces no es primo!\n",
    "                if((p-a) in costedic):\n",
    "                    ctemp = costedic[p-a] + costedic[p];         \n",
    "                    if min - ctemp >=0:\n",
    "                        n1 = (n-a)//p +1;\n",
    "                        if n1 != 1:\n",
    "                            (aux,str_n1) = create_cost_str_wd(n1,min-ctemp);\n",
    "                            ctemp += aux;\n",
    "                        else:\n",
    "                            str_n1=\"\";\n",
    "                        if ctemp < min :\n",
    "                            min= ctemp;\n",
    "                            strv=\"(\"+str_n1+\")*\"+strdic[p];\n",
    "                            if (p-a)!=0:\n",
    "                                strv+=\"-\"+strdic[p-a]; \n",
    "                            #print (p)\n",
    "    if(min!=cota):\n",
    "        costedic[n]=min;\n",
    "        strdic[n]=strv;\n",
    "    return min,strv;"
   ]
  },
  {
   "cell_type": "code",
   "execution_count": 183,
   "metadata": {
    "collapsed": false
   },
   "outputs": [
    {
     "name": "stdout",
     "output_type": "stream",
     "text": [
      "2019-11-07 16:08:32.582323\n"
     ]
    },
    {
     "name": "stdout",
     "output_type": "stream",
     "text": [
      "(8, '((((7)*17)*83-61)*97-31)*97-59')\n",
      "2019-11-07 16:08:34.819576\n"
     ]
    },
    {
     "name": "stdout",
     "output_type": "stream",
     "text": [
      "(8, '((((3)*37)*89-53)*97+29)*97+31')\n",
      "2019-11-07 16:08:36.207201\n"
     ]
    },
    {
     "name": "stdout",
     "output_type": "stream",
     "text": [
      "(7, '((((11)*23)*53)*71+61)*97-53')\n",
      "2019-11-07 16:08:36.864521\n"
     ]
    },
    {
     "name": "stdout",
     "output_type": "stream",
     "text": [
      "(8, '((((7)*17)*83)*97+59)*97+(5+13)')\n",
      "2019-11-07 16:08:38.506686\n"
     ]
    },
    {
     "name": "stdout",
     "output_type": "stream",
     "text": [
      "(7, '((((23)*29)*31-2)*53)*83-23')\n",
      "2019-11-07 16:08:39.033639\n"
     ]
    }
   ],
   "source": [
    "import datetime\n",
    "print(datetime.datetime.now())\n",
    "print(create_cost_str_wd(92355678,100)) #92355678\n",
    "print(datetime.datetime.now())\n",
    "print(create_cost_str_wd(92455678,100))\n",
    "print(datetime.datetime.now())\n",
    "print(create_cost_str_wd(92353647,100))\n",
    "print(datetime.datetime.now())\n",
    "print(create_cost_str_wd(92938434,100))\n",
    "print(datetime.datetime.now())\n",
    "print(create_cost_str_wd(90949302,100))\n",
    "print(datetime.datetime.now())"
   ]
  },
  {
   "cell_type": "code",
   "execution_count": 135,
   "metadata": {
    "collapsed": false
   },
   "outputs": [
    {
     "name": "stdout",
     "output_type": "stream",
     "text": [
      "{0: 0, 1: 1, 2: 1, 3: 1, 5: 1, 7: 1, 11: 1, 13: 1, 17: 1, 19: 1, 23: 1, 29: 1, 31: 1, 37: 1, 41: 1, 43: 1, 47: 1, 53: 1, 59: 1, 61: 1, 67: 1, 71: 1, 73: 1, 79: 1, 83: 1, 89: 1, 97: 1, 4: 2, 9: 2, 15: 2, 21: 2, 25: 2, 33: 2, 39: 2, 45: 2, 49: 2, 55: 2, 63: 2, 69: 2, 75: 2, 81: 2, 85: 2, 91: 2, 99: 2, 6: 2, 8: 2, 10: 2, 14: 2, 16: 2, 20: 2, 22: 2, 26: 2, 32: 2, 34: 2, 40: 2, 44: 2, 46: 2, 50: 2, 56: 2, 62: 2, 64: 2, 70: 2, 74: 2, 76: 2, 82: 2, 86: 2, 92: 2, 100: 2, 12: 2, 18: 2, 24: 2, 28: 2, 36: 2, 42: 2, 48: 2, 52: 2, 58: 2, 66: 2, 72: 2, 78: 2, 84: 2, 88: 2, 94: 2, 102: 2, 30: 2, 38: 2, 54: 2, 60: 2, 68: 2, 80: 2, 90: 2, 96: 2, 104: 2, 108: 2, 110: 2, 106: 2, 114: 2, 98: 2, 116: 2, 112: 2, 120: 2, 27: 2, 118: 2, 126: 2, 128: 2, 35: 2, 134: 2, 124: 2, 130: 2, 138: 2, 122: 2, 132: 2, 140: 2, 136: 2, 144: 2, 51: 2, 142: 2, 150: 2, 57: 2, 148: 2, 156: 2, 158: 2, 65: 2, 146: 2, 164: 2, 154: 2, 160: 2, 168: 2, 152: 2, 162: 2, 170: 2, 77: 2, 176: 2, 166: 2, 172: 2, 180: 2, 87: 2, 178: 2, 186: 2, 95: 2, 194: 2, 101: 3, 9815: 4, 121: 2, 10698: 4, 952120: 6, 119: 2, 9816: 4, 952121: 6, 92355678: 8}\n"
     ]
    }
   ],
   "source": [
    "print(costedic)"
   ]
  }
 ],
 "metadata": {
  "kernelspec": {
   "display_name": "Python 3 (system-wide)",
   "language": "python",
   "metadata": {
    "cocalc": {
     "description": "Python 3 programming language",
     "priority": 100,
     "url": "https://www.python.org/"
    }
   },
   "name": "python3"
  },
  "language_info": {
   "codemirror_mode": {
    "name": "ipython",
    "version": 3
   },
   "file_extension": ".py",
   "mimetype": "text/x-python",
   "name": "python",
   "nbconvert_exporter": "python",
   "pygments_lexer": "ipython3",
   "version": "3.6.8"
  }
 },
 "nbformat": 4,
 "nbformat_minor": 0
}